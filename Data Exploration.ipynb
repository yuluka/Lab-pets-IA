{
 "cells": [
  {
   "cell_type": "markdown",
   "id": "0469ebc6",
   "metadata": {},
   "source": [
    "# Pets finder laboratorio\n",
    "### Integrantes:\n",
    "- Yuluka Gigante Muriel\n",
    "- Dennis Masso Macías"
   ]
  },
  {
   "cell_type": "markdown",
   "id": "8729fb92",
   "metadata": {},
   "source": [
    "###### Respuestas a las preguntas:\n",
    "\n",
    "**Complejidad 1:**\n",
    "\n",
    "1. **¿Cuantos registros y variables cuenta el dataset?**\n",
    "\n",
    "    El dataset cuenta con 24 variables, las cuales son: 'Type', 'Name', 'Age', 'Breed1', 'Breed2', 'Gender', 'Color1', 'Color2', 'Color3', 'MaturitySize', 'FurLength', 'Vaccinated', 'Dewormed', 'Sterilized', 'Health', 'Quantity', 'Fee', 'State', 'RescuerID', 'VideoAmt', 'Description', 'PetID', 'PhotoAmt', 'AdoptionSpeed'.\n",
    "\n",
    "    La cantidad de registros que posee, en total, es de 14993.\n",
    "\n",
    "2. **¿Cómo están los valores de la variable Age?**\n",
    "\n",
    "    Los valores de la variable 'Age' están catalogados por meses, con mínimo de 0 y un máximo de 255. Según la página de kaggle, con la información de las columnas, representa la edad del animal cuando este fue registrado. \n",
    "    \n",
    "    La gran mayoría de los animales tienen una edad de entre 0 y 5.1 meses.\n",
    "    \n",
    "    Antes de responder las siguientes preguntas es importante aclarar que la información de Kaggle indica que solo hay dos tipos de animales: perros y gatos. El tipo de animal está dentro de la variable 'Type', que almacena valores 1 y 2, donde 1 corresponde a Perro y 2 a Gato.\n",
    "    \n",
    "    **2.1. ¿Cuál es la distribución por tipo de animal?**\n",
    "    \n",
    "    Con respecto al tipo de animal, podemos ver que tanto los perros como los gatos son, en su mayoría, bastante pequeños. \n",
    "    \n",
    "    En cuanto al caso particular de los perros, estos tienen un pico bastante pronunciado en la edad de los dos meses. Además, hay una notable mayoría de ellos entre los 1 y los 4 meses. Después de estas edades, la cantidad de ellos se reduce drásticamente, teniendo algunos picos esporádicos.\n",
    "    \n",
    "    En cuanto al caso de los gatos, estos también tienen su pico más alto en la edad de los dos meses. La mayoría de estos, de forma similar a su contraparte, se ubican entre los 1 y los 6 meses. Tienen un pico notable en los 12 meses.\n",
    "    \n",
    "    Estos resultados implican que la mayoría de los animales sin hogar tienen edades menores a un año.\n",
    "    \n",
    "    **2.2. ¿Cuales son los estadísticos descriptivos para esta variable?**\n",
    "\n",
    "    Los estadísticos descriptivos de la variable 'Age' son:\n",
    "    \n",
    "    - Media: 10,45.\n",
    "    - Mediana: 3.\n",
    "    - Moda: 2.\n",
    "    - Desviación estándar: 18,16.\n",
    "    - Valor mínimo: 0.\n",
    "    - Valor máximo: 255.\n",
    "\n",
    "3. **¿Hay más datos de perros o de gatos?**\n",
    "\n",
    "    Hay más datos de perros. \n",
    "    \n",
    "    La cantidad de datos total de perros es de 8132, mientras que la cantidad de registros de gatos es de 6861.\n",
    "\n",
    "4. **¿Cómo es la velocidad de adopción para perros y gatos?**\n",
    "\n",
    "    En el caso de los perros, podemos ver que la velocidad de adopción de estos no es muy rápida, pues la mayoría de estos están en la categoría de adopción 4, que implica que no han sido adoptados después de 100 días de haber sido registrados. Sin embargo, la segunda categoría predominante es la 2, que significa que los perros fueron adoptados entre 8 y 30 días después de haber sido registrados. Aún así, la media para este grupo es de 2,6, lo que nos indica que, a pesar de que la mayoría de ellos se encuentren en la categoría 4, en promedio son adoptados entre 8 y 30 días después de haber sido registrados.  \n",
    "    \n",
    "    En el caso de los gatos, estos tienen una velocidad de adopción mayor, pues la mayoría de estos se encuentran dentro de las categorías 1 y 2, lo que significa que mayormente son adoptados en un plazo máximo de un mes después de haber sido listados. Aún así, también hay una gran cantidad de ellos en la categoría 4. \n",
    "\n",
    "5. **Encuentre los nombres sin valores.**\n",
    "\n",
    "    En la página de Kaggle dice que los valores nulos de la columna Name significa que la mascota no tiene nombre, pero encontramos más valores que hacían referencia a que las mascotas carecían de nombre (las anotaciones están más abajo), entonces reemplazamos los valores que encontramos de este tipo por NaN. \n",
    "    \n",
    "    Ahora sí, el número total de valores nulos en la columna Name es de 1376.\n",
    "\n",
    "    **5.1. ¿Cuántos para gatos y perros?**\n",
    "    \n",
    "    La cantidad de valores nulos en la columna Name para perros es de 695.\n",
    "    \n",
    "    La cantidad de valores nulos en la columna Name para gatos es de 681.\n",
    "    \n",
    "   **5.2. ¿Eliminar o reemplazar los registros? Justifique.**\n",
    "    \n",
    "    Los registros da mascotas que no poseen nombre deberían ser modificados en el valor de la variable Name para reemplazar los NaN por algo más descriptivo como \"No name\", o algo por el estilo. Sin embargo, no tendría lógica alterar los valores de las demás variables, ni mucho menos eliminar los registros completos, puesto que, a pesar de no tener nombre, estos siguen haciendo referencia a mascotas que deben figurar en los datos.\n",
    "    \n",
    "    No tendría nada de lógico deshacernos de esa información solo porque las mascotas no tienen nombre ya que esto no implica que la mascota no importe, o que no se deba hacer seguimiento de su caso. En otras palabras, pensamos que la falta de nombre de una mascota no es razón suficiente para deshacernos de toda su información.\n",
    "\n",
    "6. **¿La salud podría significar algo en la velocidad de adopción?**\n",
    "\n",
    "    Viendo el heatmap y la tabla de frecuencias cruzada realizadas para responder esta pregunta, podemos ver que parece haber una fuerte relación entre la adopción y la salud, pues hay una muy pronunciada mayoría de adopciones de las mascotas situadas en la mejor categoría de salud (la 1). Sin embargo, si miramos un poco más la variable Health, podemos ver que hay muchísimos más animales de la categoría 1 de salud (más de 14000 de hecho), por lo que es lógico que haya tanta diferencia en la cantidad de adopciones de animales con este nivel de salud. \n",
    "    \n",
    "    Por otro lado, para las 3 categorías de salud hay una mayor cantidad de animales en la categoría 4 de velocidad de adopción, por lo que, en caso de haber una correlación, a mejor salud, más lenta es la adopción. Sin embargo, exceptuando la categoría 0, las cantidades de adopciones de cada categoría de velocidad tampoco son tan lejanas entre ellas, por lo que pensamos que no hay razones suficientes para afirmar que haya una relación entre la salud y la velocidad de adopción de las mascotas. "
   ]
  },
  {
   "cell_type": "code",
   "execution_count": 3,
   "id": "97cb644c",
   "metadata": {},
   "outputs": [],
   "source": [
    "import pandas as pd\n",
    "import numpy as np"
   ]
  },
  {
   "cell_type": "code",
   "execution_count": 4,
   "id": "4e0fc490",
   "metadata": {},
   "outputs": [],
   "source": [
    "df = pd.read_csv(\"train/train.csv\")"
   ]
  },
  {
   "cell_type": "code",
   "execution_count": 5,
   "id": "d2476baa",
   "metadata": {},
   "outputs": [
    {
     "name": "stdout",
     "output_type": "stream",
     "text": [
      "<class 'pandas.core.frame.DataFrame'>\n",
      "RangeIndex: 14993 entries, 0 to 14992\n",
      "Data columns (total 24 columns):\n",
      " #   Column         Non-Null Count  Dtype  \n",
      "---  ------         --------------  -----  \n",
      " 0   Type           14993 non-null  int64  \n",
      " 1   Name           13736 non-null  object \n",
      " 2   Age            14993 non-null  int64  \n",
      " 3   Breed1         14993 non-null  int64  \n",
      " 4   Breed2         14993 non-null  int64  \n",
      " 5   Gender         14993 non-null  int64  \n",
      " 6   Color1         14993 non-null  int64  \n",
      " 7   Color2         14993 non-null  int64  \n",
      " 8   Color3         14993 non-null  int64  \n",
      " 9   MaturitySize   14993 non-null  int64  \n",
      " 10  FurLength      14993 non-null  int64  \n",
      " 11  Vaccinated     14993 non-null  int64  \n",
      " 12  Dewormed       14993 non-null  int64  \n",
      " 13  Sterilized     14993 non-null  int64  \n",
      " 14  Health         14993 non-null  int64  \n",
      " 15  Quantity       14993 non-null  int64  \n",
      " 16  Fee            14993 non-null  int64  \n",
      " 17  State          14993 non-null  int64  \n",
      " 18  RescuerID      14993 non-null  object \n",
      " 19  VideoAmt       14993 non-null  int64  \n",
      " 20  Description    14981 non-null  object \n",
      " 21  PetID          14993 non-null  object \n",
      " 22  PhotoAmt       14993 non-null  float64\n",
      " 23  AdoptionSpeed  14993 non-null  int64  \n",
      "dtypes: float64(1), int64(19), object(4)\n",
      "memory usage: 2.7+ MB\n"
     ]
    }
   ],
   "source": [
    "# Para la pregunta 1:\n",
    "\n",
    "df.info()"
   ]
  },
  {
   "cell_type": "code",
   "execution_count": 6,
   "id": "9002234f",
   "metadata": {},
   "outputs": [
    {
     "data": {
      "text/plain": [
       "Index(['Type', 'Name', 'Age', 'Breed1', 'Breed2', 'Gender', 'Color1', 'Color2',\n",
       "       'Color3', 'MaturitySize', 'FurLength', 'Vaccinated', 'Dewormed',\n",
       "       'Sterilized', 'Health', 'Quantity', 'Fee', 'State', 'RescuerID',\n",
       "       'VideoAmt', 'Description', 'PetID', 'PhotoAmt', 'AdoptionSpeed'],\n",
       "      dtype='object')"
      ]
     },
     "execution_count": 6,
     "metadata": {},
     "output_type": "execute_result"
    }
   ],
   "source": [
    "df.columns"
   ]
  },
  {
   "cell_type": "code",
   "execution_count": 7,
   "id": "4d353e54",
   "metadata": {},
   "outputs": [],
   "source": [
    "# Para la pregunta 2:\n",
    "\n",
    "import matplotlib.pyplot as plt"
   ]
  },
  {
   "cell_type": "code",
   "execution_count": 8,
   "id": "648652de",
   "metadata": {},
   "outputs": [
    {
     "data": {
      "image/png": "[encoded data removed]",
      "text/plain": [
       "<Figure size 640x480 with 1 Axes>"
      ]
     },
     "metadata": {},
     "output_type": "display_data"
    }
   ],
   "source": [
    "plt.hist(df['Age'], bins=50)\n",
    "plt.title(\"Distribución de la variable 'Age'\")\n",
    "plt.xlabel(\"Edad\")\n",
    "plt.ylabel(\"Frecuencia\")\n",
    "plt.show()"
   ]
  },
  {
   "cell_type": "code",
   "execution_count": 9,
   "id": "a5b9a473",
   "metadata": {},
   "outputs": [
    {
     "name": "stdout",
     "output_type": "stream",
     "text": [
      "La edad predominante está entre 0.0 y 5.1 meses\n"
     ]
    },
    {
     "data": {
      "image/png": "[encoded data removed]",
      "text/plain": [
       "<Figure size 640x480 with 1 Axes>"
      ]
     },
     "metadata": {},
     "output_type": "display_data"
    }
   ],
   "source": [
    "# Obtener los valores del histograma y los bordes del bin\n",
    "values, bins, _ = plt.hist(df['Age'], bins=50)\n",
    "\n",
    "# Encontrar el índice del valor máximo en el histograma\n",
    "max_value_index = np.argmax(values)\n",
    "\n",
    "# Obtener los bordes izquierdo y derecho del bin correspondiente al valor máximo\n",
    "max_age_range_begin = bins[max_value_index]\n",
    "max_age_range_end = bins[max_value_index+1]\n",
    "\n",
    "print(\"La edad predominante está entre {} y {} meses\".format(max_age_range_begin, max_age_range_end))"
   ]
  },
  {
   "cell_type": "code",
   "execution_count": 10,
   "id": "ea97335a",
   "metadata": {
    "scrolled": true
   },
   "outputs": [
    {
     "data": {
      "text/plain": [
       "Text(0.5, 1.0, 'Distribución de la Edad para los Perros')"
      ]
     },
     "execution_count": 10,
     "metadata": {},
     "output_type": "execute_result"
    },
    {
     "data": {
      "image/png": "[encoded data removed]",
      "text/plain": [
       "<Figure size 1000x500 with 1 Axes>"
      ]
     },
     "metadata": {},
     "output_type": "display_data"
    }
   ],
   "source": [
    "# Establecemos el límite en 125 puesto que, viendo los anteriores gráficos, no hay animales que \n",
    "# superen esa edad.\n",
    "dogs_hist = df[df['Type']==1].hist(column='Age', bins=125, range=(0,125), figsize=(10,5))\n",
    "plt.title(\"Distribución de la Edad para los Perros\")"
   ]
  },
  {
   "cell_type": "code",
   "execution_count": 11,
   "id": "a13f004b",
   "metadata": {},
   "outputs": [
    {
     "data": {
      "text/plain": [
       "Text(0.5, 1.0, 'Distribución de la Edad para los Gatos')"
      ]
     },
     "execution_count": 11,
     "metadata": {},
     "output_type": "execute_result"
    },
    {
     "data": {
      "image/png": "[encoded data removed]",
      "text/plain": [
       "<Figure size 1000x500 with 1 Axes>"
      ]
     },
     "metadata": {},
     "output_type": "display_data"
    }
   ],
   "source": [
    "cats_hist = df[df['Type']==2].hist(column='Age', bins=125, range=(0,125), figsize=(10,5))\n",
    "plt.title(\"Distribución de la Edad para los Gatos\")"
   ]
  },
  {
   "cell_type": "code",
   "execution_count": 12,
   "id": "422b5b65",
   "metadata": {},
   "outputs": [
    {
     "data": {
      "text/plain": [
       "count    14993.000000\n",
       "mean        10.452078\n",
       "std         18.155790\n",
       "min          0.000000\n",
       "25%          2.000000\n",
       "50%          3.000000\n",
       "75%         12.000000\n",
       "max        255.000000\n",
       "Name: Age, dtype: float64"
      ]
     },
     "execution_count": 12,
     "metadata": {},
     "output_type": "execute_result"
    }
   ],
   "source": [
    "df['Age'].describe()"
   ]
  },
  {
   "cell_type": "code",
   "execution_count": 13,
   "id": "b42c28d4",
   "metadata": {
    "scrolled": true
   },
   "outputs": [
    {
     "name": "stdout",
     "output_type": "stream",
     "text": [
      "La cantidad de registros de perros es 8132, mientras que la cantidad de registros de gatos es 6861\n"
     ]
    }
   ],
   "source": [
    "# Para la tercera pregunta:\n",
    "\n",
    "dogs_quantity = df[df['Type']==1].shape[0]\n",
    "cats_quantity = df[df['Type']==2].shape[0]\n",
    "\n",
    "print(\"La cantidad de registros de perros es {}, mientras que la cantidad de registros de gatos es {}\"\n",
    "     .format(dogs_quantity,cats_quantity))"
   ]
  },
  {
   "cell_type": "code",
   "execution_count": 14,
   "id": "27cfdebf",
   "metadata": {},
   "outputs": [
    {
     "data": {
      "text/plain": [
       "count    8132.000000\n",
       "mean        2.615101\n",
       "std         1.144104\n",
       "min         0.000000\n",
       "25%         2.000000\n",
       "50%         3.000000\n",
       "75%         4.000000\n",
       "max         4.000000\n",
       "Name: AdoptionSpeed, dtype: float64"
      ]
     },
     "execution_count": 14,
     "metadata": {},
     "output_type": "execute_result"
    }
   ],
   "source": [
    "# Para la cuarta pregunta:\n",
    "\n",
    "df[df['Type']==1]['AdoptionSpeed'].describe()"
   ]
  },
  {
   "cell_type": "code",
   "execution_count": 15,
   "id": "2e880e45",
   "metadata": {},
   "outputs": [
    {
     "data": {
      "text/plain": [
       "count    6861.000000\n",
       "mean        2.399504\n",
       "std         1.205065\n",
       "min         0.000000\n",
       "25%         1.000000\n",
       "50%         2.000000\n",
       "75%         4.000000\n",
       "max         4.000000\n",
       "Name: AdoptionSpeed, dtype: float64"
      ]
     },
     "execution_count": 15,
     "metadata": {},
     "output_type": "execute_result"
    }
   ],
   "source": [
    "df[df['Type']==2]['AdoptionSpeed'].describe()"
   ]
  },
  {
   "cell_type": "code",
   "execution_count": 16,
   "id": "58b7203e",
   "metadata": {
    "scrolled": true
   },
   "outputs": [
    {
     "data": {
      "text/plain": [
       "Text(0, 0.5, 'Frecuencia')"
      ]
     },
     "execution_count": 16,
     "metadata": {},
     "output_type": "execute_result"
    },
    {
     "data": {
      "image/png": "[encoded data removed]",
      "text/plain": [
       "<Figure size 900x300 with 1 Axes>"
      ]
     },
     "metadata": {},
     "output_type": "display_data"
    }
   ],
   "source": [
    "dogs_adoption_speed_hist = df[df['Type']==1].hist(column='AdoptionSpeed', bins=5, range=(0,5), figsize=(9,3))\n",
    "plt.title(\"Distribución de la Velocidad de adopción de Perros\")\n",
    "plt.xlabel(\"Velocidad de adopción\")\n",
    "plt.ylabel(\"Frecuencia\")"
   ]
  },
  {
   "cell_type": "code",
   "execution_count": 17,
   "id": "5b7bf4ca",
   "metadata": {
    "scrolled": true
   },
   "outputs": [
    {
     "data": {
      "text/plain": [
       "Text(0, 0.5, 'Frecuencia')"
      ]
     },
     "execution_count": 17,
     "metadata": {},
     "output_type": "execute_result"
    },
    {
     "data": {
      "image/png": "[encoded data removed]",
      "text/plain": [
       "<Figure size 900x300 with 1 Axes>"
      ]
     },
     "metadata": {},
     "output_type": "display_data"
    }
   ],
   "source": [
    "cats_adoption_speed_hist = df[df['Type']==2].hist(column='AdoptionSpeed', bins=5, range=(0,5), figsize=(9,3))\n",
    "plt.title(\"Distribución de la Velocidad de adopción de Gatos\")\n",
    "plt.xlabel(\"Velocidad de adopción\")\n",
    "plt.ylabel(\"Frecuencia\")"
   ]
  },
  {
   "cell_type": "code",
   "execution_count": 18,
   "id": "e4a1ded3",
   "metadata": {},
   "outputs": [
    {
     "data": {
      "text/plain": [
       "1257"
      ]
     },
     "execution_count": 18,
     "metadata": {},
     "output_type": "execute_result"
    }
   ],
   "source": [
    "# Para la quinta pregunta:\n",
    "\n",
    "df[df['Name'].isna()].shape[0]"
   ]
  },
  {
   "cell_type": "code",
   "execution_count": 19,
   "id": "7e104457",
   "metadata": {},
   "outputs": [
    {
     "data": {
      "text/plain": [
       "22"
      ]
     },
     "execution_count": 19,
     "metadata": {},
     "output_type": "execute_result"
    }
   ],
   "source": [
    "df[df['Name']=='No Name Yet'].shape[0]"
   ]
  },
  {
   "cell_type": "markdown",
   "id": "f96d2c81",
   "metadata": {},
   "source": [
    "(Esto es una anotación)\n",
    "Hay algunos valores, que no son NaN, que también hacen referencia a que las mascotas no tienen nombre. Hasta ahora he encontrado:\n",
    "- No Name Yet\n",
    "- No Name\n",
    "- Not Yet Named\n",
    "- No Names\n",
    "- None\n",
    "- (No Name)\n",
    "- [No Name]\n",
    "- Not Yet\n",
    "- No Names Yet\n",
    "- Noname\n",
    "- Not Given Yet\n",
    "- Not Named Yet\n",
    "- No Name Kitten\n",
    "- Not Given\n",
    "- Not Name Yet\n",
    "- *No Name*\n",
    "- Not Named\n",
    "- (No Names Yet)\n",
    "- Not Yet Name\n",
    "- No Name Kitties\n",
    "- No Name Yet, It's Up To The Owner\n",
    "- No Name  Yet\n",
    "- (No Name - She Is Just A Stray)\n",
    "- Kittens - No Names Yet\n",
    "- No Named\n",
    "- No Name Yet (Must Neuter)\n",
    "- No Name For Now\n",
    "- None Yet\n",
    "- No Name Yet....\n",
    "- No Name 2"
   ]
  },
  {
   "cell_type": "code",
   "execution_count": 20,
   "id": "aa29ac39",
   "metadata": {},
   "outputs": [
    {
     "name": "stdout",
     "output_type": "stream",
     "text": [
      "No Name Yet\n",
      "No Name\n",
      "Novy\n",
      "Not Yet Named\n",
      "Noizy\n",
      "Notty\n",
      "Nottie & Choomi\n",
      "Nonny & Boink Family\n",
      "Noah\n",
      "Fluff & Nosey\n",
      "No Names\n",
      "Do, Re, Mi And Noemy\n",
      "None\n",
      "Black-Nosed Kitten\n",
      "(No Name)\n",
      "Nova\n",
      "Cats From TTDI Now In Omiey's Home\n",
      "[No Name]\n",
      "Norman\n",
      "Novi\n",
      "Not Yet\n",
      "No Names Yet\n",
      "Noname\n",
      "Nomi Kitten\n",
      "Noir\n",
      "Klang Nomad\n",
      "Non\n",
      "Nori\n",
      "[{(Border Collie Puppy No5)}]\n",
      "Noni\n",
      "Not Given Yet\n",
      "We Are No.1 To 7\n",
      "Nondi (Kira)\n",
      "Tina, Jaylyn & Noah\n",
      "Noodle\n",
      "Not Named Yet\n",
      "Noorul & Ajyei\n",
      "Noah And Nellie\n",
      "Kitten No. 2\n",
      "No Name Kitten\n",
      "Not Given\n",
      "Male Puppy No 1\n",
      "Monk & Noise\n",
      "Not Name Yet\n",
      "Nonet\n",
      "*No Name*\n",
      "Lala And Nonot\n",
      "[{(Border Collie Puppy No1)}]\n",
      "Not Named\n",
      "Tofu, Nobu, Igloo, Asuka, Piglet\n",
      "Brownie Who Is Not Brown\n",
      "MiMi LuLu NoNo KiKi\n",
      "Ebony And Noir\n",
      "Nona\n",
      "(No Names Yet)\n",
      "[{(Border Collie Puppy No3)}]\n",
      "Kitten No. 3\n",
      "Not Yet Name\n",
      "[{(Border Collie Puppy No4)}]\n",
      "No Name Kitties\n",
      "Nomi\n",
      "Blackie Nose\n",
      "Noel\n",
      "Kitten No.4\n",
      "Notti\n",
      "Kitten No. 1\n",
      "Norma Jean\n",
      "Female No 2\n",
      "Coco And Nomok\n",
      "Solty Rei Nobara\n",
      "Hob Nob\n",
      "No Name Yet, It's Up To The Owner\n",
      "No Name  Yet\n",
      "(No Name - She Is Just A Stray)\n",
      "Nola\n",
      "White Nose\n",
      "Kittens - No Names Yet\n",
      "Female No 5\n",
      "Ranger (for Now)\n",
      "No Land\n",
      "No Named\n",
      "No Name Yet (Must Neuter)\n",
      "Female No 6\n",
      "Cat No 1\n",
      "No Name For Now\n",
      "Doodle & Noodle\n",
      "Female No 1\n",
      "Prince Notty\n",
      "Toby And Norton\n",
      "No 1 & No 2 & No 3 & No 4\n",
      "Luna Rin Nobara\n",
      "None Yet\n",
      "Nishinoya (Noya)\n",
      "Female No 3\n",
      "Noona\n",
      "No Name Yet....\n",
      "Nobu & Yoshi\n",
      "Noty, Dopin, Tateh, Momot, Oreo\n",
      "No Name 2\n",
      "Noon\n",
      "Notty Boy\n",
      "Pinky Nose\n",
      "Jolin Miss Nottie\n",
      "Nobu\n",
      "Female No 4\n",
      "Now  :)\n"
     ]
    }
   ],
   "source": [
    "# Veo que los que no tienen nombre suelen iniciar con 'No', así que los voy a buscar \n",
    "\n",
    "names_no = df[df['Name'].str.contains('No', na=False)]['Name'].unique()\n",
    "\n",
    "for i in range(len(names_no)):\n",
    "    print(names_no[i])"
   ]
  },
  {
   "cell_type": "code",
   "execution_count": 21,
   "id": "ca19ab45",
   "metadata": {},
   "outputs": [],
   "source": [
    "# Voy a reemplazar todos esos valores por NaN\n",
    "\n",
    "df['Name'] = df['Name'].replace('No Name Yet', np.nan)\n",
    "df['Name'] = df['Name'].replace('No Name', np.nan)\n",
    "df['Name'] = df['Name'].replace('Not Yet Named', np.nan)\n",
    "df['Name'] = df['Name'].replace('No Names', np.nan)\n",
    "df['Name'] = df['Name'].replace('None', np.nan)\n",
    "df['Name'] = df['Name'].replace('(No Name)', np.nan)\n",
    "df['Name'] = df['Name'].replace('[No Name]', np.nan)\n",
    "df['Name'] = df['Name'].replace('Not Yet', np.nan)\n",
    "df['Name'] = df['Name'].replace('No Names Yet', np.nan)\n",
    "df['Name'] = df['Name'].replace('Noname', np.nan)\n",
    "df['Name'] = df['Name'].replace('Not Given Yet', np.nan)\n",
    "df['Name'] = df['Name'].replace('Not Named Yet', np.nan)\n",
    "df['Name'] = df['Name'].replace('No Name Kitten', np.nan)\n",
    "df['Name'] = df['Name'].replace('Not Given', np.nan)\n",
    "df['Name'] = df['Name'].replace('Not Name Yet', np.nan)\n",
    "df['Name'] = df['Name'].replace('*No Name*', np.nan)\n",
    "df['Name'] = df['Name'].replace('Not Named', np.nan)\n",
    "df['Name'] = df['Name'].replace('(No Names Yet)', np.nan)\n",
    "df['Name'] = df['Name'].replace('Not Yet Name', np.nan)\n",
    "df['Name'] = df['Name'].replace('No Name Kitties', np.nan)\n",
    "df['Name'] = df['Name'].replace(\"No Name Yet, It's Up To The Owner\", np.nan)\n",
    "df['Name'] = df['Name'].replace('No Name  Yet', np.nan)\n",
    "df['Name'] = df['Name'].replace('(No Name - She Is Just A Stray)', np.nan)\n",
    "df['Name'] = df['Name'].replace('Kittens - No Names Yet', np.nan)\n",
    "df['Name'] = df['Name'].replace('No Named', np.nan)\n",
    "df['Name'] = df['Name'].replace('No Name Yet (Must Neuter)', np.nan)\n",
    "df['Name'] = df['Name'].replace('No Name For Now', np.nan)\n",
    "df['Name'] = df['Name'].replace('None Yet', np.nan)\n",
    "df['Name'] = df['Name'].replace('No Name Yet....', np.nan)\n",
    "df['Name'] = df['Name'].replace('No Name 2', np.nan)\n"
   ]
  },
  {
   "cell_type": "code",
   "execution_count": 22,
   "id": "919d6049",
   "metadata": {},
   "outputs": [
    {
     "data": {
      "text/plain": [
       "1376"
      ]
     },
     "execution_count": 22,
     "metadata": {},
     "output_type": "execute_result"
    }
   ],
   "source": [
    "# Volvemos a hacer el conteo ahora.\n",
    "\n",
    "df[df['Name'].isna()].shape[0]"
   ]
  },
  {
   "cell_type": "code",
   "execution_count": 23,
   "id": "f0996606",
   "metadata": {},
   "outputs": [
    {
     "name": "stdout",
     "output_type": "stream",
     "text": [
      "La cantidad de peros sin nombre es 695 y de gatos es 681.\n"
     ]
    }
   ],
   "source": [
    "dogs_without_name = df[(df['Type']==1) & (df['Name'].isna())].shape[0]\n",
    "cats_without_name = df[(df['Type']==2) & (df['Name'].isna())].shape[0]\n",
    "\n",
    "print(\"La cantidad de peros sin nombre es {} y de gatos es {}.\".format(dogs_without_name, cats_without_name))"
   ]
  },
  {
   "cell_type": "code",
   "execution_count": 24,
   "id": "4e6d1d7f",
   "metadata": {},
   "outputs": [],
   "source": [
    "# Para la sexta pregunta\n",
    "\n",
    "import seaborn as sns"
   ]
  },
  {
   "cell_type": "code",
   "execution_count": 25,
   "id": "5450af96",
   "metadata": {},
   "outputs": [
    {
     "data": {
      "text/html": [
       "<div>\n",
       "<style scoped>\n",
       "    .dataframe tbody tr th:only-of-type {\n",
       "        vertical-align: middle;\n",
       "    }\n",
       "\n",
       "    .dataframe tbody tr th {\n",
       "        vertical-align: top;\n",
       "    }\n",
       "\n",
       "    .dataframe thead th {\n",
       "        text-align: right;\n",
       "    }\n",
       "</style>\n",
       "<table border=\"1\" class=\"dataframe\">\n",
       "  <thead>\n",
       "    <tr style=\"text-align: right;\">\n",
       "      <th>AdoptionSpeed</th>\n",
       "      <th>0</th>\n",
       "      <th>1</th>\n",
       "      <th>2</th>\n",
       "      <th>3</th>\n",
       "      <th>4</th>\n",
       "    </tr>\n",
       "    <tr>\n",
       "      <th>Health</th>\n",
       "      <th></th>\n",
       "      <th></th>\n",
       "      <th></th>\n",
       "      <th></th>\n",
       "      <th></th>\n",
       "    </tr>\n",
       "  </thead>\n",
       "  <tbody>\n",
       "    <tr>\n",
       "      <th>1</th>\n",
       "      <td>392</td>\n",
       "      <td>2999</td>\n",
       "      <td>3925</td>\n",
       "      <td>3150</td>\n",
       "      <td>4012</td>\n",
       "    </tr>\n",
       "    <tr>\n",
       "      <th>2</th>\n",
       "      <td>17</td>\n",
       "      <td>89</td>\n",
       "      <td>106</td>\n",
       "      <td>98</td>\n",
       "      <td>171</td>\n",
       "    </tr>\n",
       "    <tr>\n",
       "      <th>3</th>\n",
       "      <td>1</td>\n",
       "      <td>2</td>\n",
       "      <td>6</td>\n",
       "      <td>11</td>\n",
       "      <td>14</td>\n",
       "    </tr>\n",
       "  </tbody>\n",
       "</table>\n",
       "</div>"
      ],
      "text/plain": [
       "AdoptionSpeed    0     1     2     3     4\n",
       "Health                                    \n",
       "1              392  2999  3925  3150  4012\n",
       "2               17    89   106    98   171\n",
       "3                1     2     6    11    14"
      ]
     },
     "execution_count": 25,
     "metadata": {},
     "output_type": "execute_result"
    }
   ],
   "source": [
    "heatmap_data = pd.crosstab(df['Health'], df['AdoptionSpeed'])\n",
    "heatmap_data"
   ]
  },
  {
   "cell_type": "code",
   "execution_count": 26,
   "id": "9eabbc52",
   "metadata": {},
   "outputs": [
    {
     "data": {
      "text/plain": [
       "<AxesSubplot:xlabel='AdoptionSpeed', ylabel='Health'>"
      ]
     },
     "execution_count": 26,
     "metadata": {},
     "output_type": "execute_result"
    },
    {
     "data": {
      "image/png": "[encoded data removed]",
      "text/plain": [
       "<Figure size 640x480 with 2 Axes>"
      ]
     },
     "metadata": {},
     "output_type": "display_data"
    }
   ],
   "source": [
    "sns.heatmap(heatmap_data, cmap=\"YlGnBu\")"
   ]
  },
  {
   "cell_type": "code",
   "execution_count": 27,
   "id": "59fb9aec",
   "metadata": {},
   "outputs": [
    {
     "data": {
      "text/plain": [
       "array([[<AxesSubplot:title={'center':'Health'}>]], dtype=object)"
      ]
     },
     "execution_count": 27,
     "metadata": {},
     "output_type": "execute_result"
    },
    {
     "data": {
      "image/png": "[encoded data removed]",
      "text/plain": [
       "<Figure size 640x480 with 1 Axes>"
      ]
     },
     "metadata": {},
     "output_type": "display_data"
    }
   ],
   "source": [
    "df.hist(column='Health', bins=3, range=(1,4))"
   ]
  },
  {
   "cell_type": "markdown",
   "id": "5375389b",
   "metadata": {},
   "source": [
    "---"
   ]
  },
  {
   "cell_type": "markdown",
   "id": "5a762e24",
   "metadata": {},
   "source": [
    "**Complejidad 2:**\n",
    "\n",
    "7. **¿Cuales son los cinco nombres más populares para los perros?**\n",
    "\n",
    "    Los 5 nombres más populares para los perros son: Lucky, Puppy, Brownie, Max, Baby.\n",
    "\n",
    "8. **Revise la relación entre la variable de edad y la velocidad de adopción.**\n",
    "\n",
    "    Viendo el gráfico de dispersión generado, podemos darnos cuenta de que las mascotas más jóvenes son adoptadas más rápidamente. Sin embargo, también podemos observar que hay una alta dispersión y, tomando en cuenta el coeficiente de correlación de Pearson calculado, que es de 0,1, podemos ver que las variables tienen una correlación bastante débil.  \n",
    "\n",
    "9. **¿Existe alguna relación entre la longitud del nombre y la velocidad de adopción?**\n",
    "\n",
    "    Podría decirse que no existe alguna relación entre las dos variables puesto que, calculando su coeficiente de correlación, que da -0,006, vemos que este es muy cercano a 0, por lo que la relación es casi nula."
   ]
  },
  {
   "cell_type": "code",
   "execution_count": 28,
   "id": "ffcc2287",
   "metadata": {},
   "outputs": [
    {
     "name": "stdout",
     "output_type": "stream",
     "text": [
      "El top 5 de nombres más populares, con sus frecuencias, para los perros son: \n",
      "Lucky      48\n",
      "Puppy      45\n",
      "Brownie    44\n",
      "Max        35\n",
      "Baby       32\n",
      "Name: Name, dtype: int64\n"
     ]
    }
   ],
   "source": [
    "# Para la séptima pregunta:\n",
    "\n",
    "dogs = df[df['Type']==1]\n",
    "\n",
    "top_5_names = dogs['Name'].value_counts().sort_values(ascending=False)\n",
    "\n",
    "print(\"El top 5 de nombres más populares, con sus frecuencias, para los perros son: \\n{}\".format(top_5_names[:5]))"
   ]
  },
  {
   "cell_type": "code",
   "execution_count": 29,
   "id": "aa3deeda",
   "metadata": {},
   "outputs": [
    {
     "name": "stdout",
     "output_type": "stream",
     "text": [
      "El Coeficiente de correlación de Pearson es 0.10\n"
     ]
    }
   ],
   "source": [
    "# Para la octava pregunta:\n",
    "\n",
    "corr = df['Age'].corr(df['AdoptionSpeed'], method='pearson')\n",
    "print(\"El Coeficiente de correlación de Pearson es {:.2f}\".format(corr))"
   ]
  },
  {
   "cell_type": "code",
   "execution_count": 30,
   "id": "f13cefc5",
   "metadata": {},
   "outputs": [
    {
     "data": {
      "image/png": "[encoded data removed]",
      "text/plain": [
       "<Figure size 640x480 with 1 Axes>"
      ]
     },
     "metadata": {},
     "output_type": "display_data"
    }
   ],
   "source": [
    "plt.scatter(df['Age'], df['AdoptionSpeed'])\n",
    "plt.xlabel('Age')\n",
    "plt.ylabel('Adoption Speed')\n",
    "plt.show()"
   ]
  },
  {
   "cell_type": "code",
   "execution_count": 31,
   "id": "ebae16c3",
   "metadata": {},
   "outputs": [],
   "source": [
    "# Para la novena pregunta:\n",
    "\n",
    "df['NameLength'] = df['Name'].apply(lambda x: len(str(x)))"
   ]
  },
  {
   "cell_type": "code",
   "execution_count": 32,
   "id": "23789858",
   "metadata": {},
   "outputs": [
    {
     "name": "stdout",
     "output_type": "stream",
     "text": [
      "El Coeficiente de correlación de Pearson es -0.006\n"
     ]
    }
   ],
   "source": [
    "corr_namelen_adoptionspeed = df['NameLength'].corr(df['AdoptionSpeed'], method='pearson')\n",
    "\n",
    "print(\"El Coeficiente de correlación de Pearson es {:.3f}\".format(corr_namelen_adoptionspeed))"
   ]
  },
  {
   "cell_type": "markdown",
   "id": "0cca53c2",
   "metadata": {},
   "source": [
    "---"
   ]
  },
  {
   "cell_type": "markdown",
   "id": "92c447f4",
   "metadata": {},
   "source": [
    "**Complejidad 3:**\n",
    "\n",
    "10. **Ejecute las siguientes líneas de código e interprete.**\n",
    "\n",
    "        df_2 = df.dropna().copy()\n",
    "        df_2 = df_2.loc[df_2.Name.isna() != True].copy()\n",
    "        df_2[\"len_name\"] = df_2.loc[:, \"Name\"].apply(len)\n",
    "        df_2[\"new_age\"] = pd.cut(df_2.Age, bins=np.arange(0,300,12, dtype=int),\n",
    "                                labels=np.arange(0,len(np.arange(0,300,12, dtype=int)))[:-1], include_lowest=True).astype(int)\n",
    "                                \n",
    "La línea `df_2 = df.dropna().copy()` crea una copia del dataframe llamado df, eliminando los registros que contengan valores nulos en cualquiera de las variables del dataframe.\n",
    "\n",
    "La línea `df_2 = df_2.loc[df_2.Name.isna() != True].copy()` elimina los registros que tienen valores nulos en la columna Name. Sin embargo, no tienen nada de sentido puesto que con la primera línea ya se habían borrado todas las filas con valores nulos en cualquiera de las columnas de df (incluyendo Name). \n",
    "\n",
    "La línea `df_2[\"len_name\"] = df_2.loc[:, \"Name\"].apply(len)` crea una nueva columna que contiene las longitudes de los nombres de las mascotas. En nuestro caso no ejecutaremos esa línea porque en `df` ya creamos una columna igual, pero llamada `NameLength`.\n",
    "\n",
    "La línea `df_2[\"new_age\"] = pd.cut(df_2.Age, bins=np.arange(0,300,12, dtype=int), labels=np.arange(0,len(np.arange(0,300,12, dtype=int)))[:-1], include_lowest=True).astype(int)` crea una nueva columna, que nosotros llamaremos `NewAge` para seguir con el formato de los nombres de las columnas seguido hasta ahora. Esta columna agrupa a las mascotas en varias categorías, según la edad de cada una. Las categorías van de 12 en 12 meses, partiendo desde 0 y terminando en 300 (excluido). Entonces, los animales con edades entre 0-11 meses van en la categoría 0, los que tienen edades entre 12-23 van en la categoría 1, y así sucesivamente, hasta un máximo de edad de 299 meses. "
   ]
  },
  {
   "cell_type": "code",
   "execution_count": 33,
   "id": "ea905dc4",
   "metadata": {},
   "outputs": [],
   "source": [
    "df_2 = df.dropna().copy()\n",
    "df_2 = df_2.loc[df_2.Name.isna() != True].copy()\n",
    "df_2[\"NewAge\"] = pd.cut(df_2.Age, bins=np.arange(0,300,12, dtype=int), \n",
    "                        labels=np.arange(0,len(np.arange(0,300,12, dtype=int)))[:-1], \n",
    "                        include_lowest=True).astype(int)"
   ]
  },
  {
   "cell_type": "code",
   "execution_count": 34,
   "id": "77db0537",
   "metadata": {},
   "outputs": [
    {
     "data": {
      "text/html": [
       "<div>\n",
       "<style scoped>\n",
       "    .dataframe tbody tr th:only-of-type {\n",
       "        vertical-align: middle;\n",
       "    }\n",
       "\n",
       "    .dataframe tbody tr th {\n",
       "        vertical-align: top;\n",
       "    }\n",
       "\n",
       "    .dataframe thead th {\n",
       "        text-align: right;\n",
       "    }\n",
       "</style>\n",
       "<table border=\"1\" class=\"dataframe\">\n",
       "  <thead>\n",
       "    <tr style=\"text-align: right;\">\n",
       "      <th></th>\n",
       "      <th>Age</th>\n",
       "      <th>NewAge</th>\n",
       "    </tr>\n",
       "  </thead>\n",
       "  <tbody>\n",
       "    <tr>\n",
       "      <th>14961</th>\n",
       "      <td>7</td>\n",
       "      <td>0</td>\n",
       "    </tr>\n",
       "    <tr>\n",
       "      <th>14962</th>\n",
       "      <td>1</td>\n",
       "      <td>0</td>\n",
       "    </tr>\n",
       "    <tr>\n",
       "      <th>14963</th>\n",
       "      <td>6</td>\n",
       "      <td>0</td>\n",
       "    </tr>\n",
       "    <tr>\n",
       "      <th>14964</th>\n",
       "      <td>36</td>\n",
       "      <td>2</td>\n",
       "    </tr>\n",
       "    <tr>\n",
       "      <th>14965</th>\n",
       "      <td>2</td>\n",
       "      <td>0</td>\n",
       "    </tr>\n",
       "    <tr>\n",
       "      <th>14966</th>\n",
       "      <td>1</td>\n",
       "      <td>0</td>\n",
       "    </tr>\n",
       "    <tr>\n",
       "      <th>14967</th>\n",
       "      <td>24</td>\n",
       "      <td>1</td>\n",
       "    </tr>\n",
       "    <tr>\n",
       "      <th>14968</th>\n",
       "      <td>2</td>\n",
       "      <td>0</td>\n",
       "    </tr>\n",
       "    <tr>\n",
       "      <th>14969</th>\n",
       "      <td>10</td>\n",
       "      <td>0</td>\n",
       "    </tr>\n",
       "    <tr>\n",
       "      <th>14970</th>\n",
       "      <td>2</td>\n",
       "      <td>0</td>\n",
       "    </tr>\n",
       "    <tr>\n",
       "      <th>14971</th>\n",
       "      <td>5</td>\n",
       "      <td>0</td>\n",
       "    </tr>\n",
       "    <tr>\n",
       "      <th>14972</th>\n",
       "      <td>2</td>\n",
       "      <td>0</td>\n",
       "    </tr>\n",
       "    <tr>\n",
       "      <th>14973</th>\n",
       "      <td>2</td>\n",
       "      <td>0</td>\n",
       "    </tr>\n",
       "    <tr>\n",
       "      <th>14974</th>\n",
       "      <td>2</td>\n",
       "      <td>0</td>\n",
       "    </tr>\n",
       "    <tr>\n",
       "      <th>14975</th>\n",
       "      <td>24</td>\n",
       "      <td>1</td>\n",
       "    </tr>\n",
       "    <tr>\n",
       "      <th>14976</th>\n",
       "      <td>84</td>\n",
       "      <td>6</td>\n",
       "    </tr>\n",
       "    <tr>\n",
       "      <th>14977</th>\n",
       "      <td>3</td>\n",
       "      <td>0</td>\n",
       "    </tr>\n",
       "    <tr>\n",
       "      <th>14978</th>\n",
       "      <td>4</td>\n",
       "      <td>0</td>\n",
       "    </tr>\n",
       "    <tr>\n",
       "      <th>14979</th>\n",
       "      <td>6</td>\n",
       "      <td>0</td>\n",
       "    </tr>\n",
       "    <tr>\n",
       "      <th>14980</th>\n",
       "      <td>24</td>\n",
       "      <td>1</td>\n",
       "    </tr>\n",
       "    <tr>\n",
       "      <th>14981</th>\n",
       "      <td>8</td>\n",
       "      <td>0</td>\n",
       "    </tr>\n",
       "    <tr>\n",
       "      <th>14982</th>\n",
       "      <td>2</td>\n",
       "      <td>0</td>\n",
       "    </tr>\n",
       "    <tr>\n",
       "      <th>14983</th>\n",
       "      <td>3</td>\n",
       "      <td>0</td>\n",
       "    </tr>\n",
       "    <tr>\n",
       "      <th>14985</th>\n",
       "      <td>24</td>\n",
       "      <td>1</td>\n",
       "    </tr>\n",
       "    <tr>\n",
       "      <th>14986</th>\n",
       "      <td>1</td>\n",
       "      <td>0</td>\n",
       "    </tr>\n",
       "    <tr>\n",
       "      <th>14987</th>\n",
       "      <td>6</td>\n",
       "      <td>0</td>\n",
       "    </tr>\n",
       "    <tr>\n",
       "      <th>14989</th>\n",
       "      <td>60</td>\n",
       "      <td>4</td>\n",
       "    </tr>\n",
       "    <tr>\n",
       "      <th>14990</th>\n",
       "      <td>2</td>\n",
       "      <td>0</td>\n",
       "    </tr>\n",
       "    <tr>\n",
       "      <th>14991</th>\n",
       "      <td>9</td>\n",
       "      <td>0</td>\n",
       "    </tr>\n",
       "    <tr>\n",
       "      <th>14992</th>\n",
       "      <td>1</td>\n",
       "      <td>0</td>\n",
       "    </tr>\n",
       "  </tbody>\n",
       "</table>\n",
       "</div>"
      ],
      "text/plain": [
       "       Age  NewAge\n",
       "14961    7       0\n",
       "14962    1       0\n",
       "14963    6       0\n",
       "14964   36       2\n",
       "14965    2       0\n",
       "14966    1       0\n",
       "14967   24       1\n",
       "14968    2       0\n",
       "14969   10       0\n",
       "14970    2       0\n",
       "14971    5       0\n",
       "14972    2       0\n",
       "14973    2       0\n",
       "14974    2       0\n",
       "14975   24       1\n",
       "14976   84       6\n",
       "14977    3       0\n",
       "14978    4       0\n",
       "14979    6       0\n",
       "14980   24       1\n",
       "14981    8       0\n",
       "14982    2       0\n",
       "14983    3       0\n",
       "14985   24       1\n",
       "14986    1       0\n",
       "14987    6       0\n",
       "14989   60       4\n",
       "14990    2       0\n",
       "14991    9       0\n",
       "14992    1       0"
      ]
     },
     "execution_count": 34,
     "metadata": {},
     "output_type": "execute_result"
    }
   ],
   "source": [
    "# Para ver un poco el contenido de la nueva columna.\n",
    "df_2[['Age', 'NewAge']].tail(30)"
   ]
  },
  {
   "cell_type": "markdown",
   "id": "a20e2a59",
   "metadata": {},
   "source": [
    "11. **Ejecute las siguientes líneas e interprete.**\n",
    "\n",
    "        from sklearn import tree\n",
    "        from sklearn.model_selection import train_test_split\n",
    "        \n",
    "        features = list(set(df_2.columns) - set([\"AdoptionSpeed\", \"PetID\", \"RescuerID\",\n",
    "                                                \"Description\", \"Name\", \"Age\", 'PhotoAmt', 'VideoAmt']))\n",
    "                                                \n",
    "        x_train, x_test, y_train, y_test = train_test_split(df_2[features], df_2.AdoptionSpeed, test_size=0.33, random_state=42)\n",
    "                                                \n",
    "La línea `from sklearn import tree` importa el módulo de scikit-learn que contiene la implementación del algoritmo de Árbol de Decisiones. \n",
    "\n",
    "La línea `from sklearn.model_selection import train_test_split` importa una función de scikit-learn que sirve para dividir el conjunto de datos del dataframe en una parte de entrenamiento y otra de testeo. Esta función recibe como parámetro el conjunto de características x, y la variable target y. En ese contexto la línea `features = list(set(df_2.columns) - set([\"AdoptionSpeed\", \"PetID\", \"RescuerID\", \"Description\", \"Name\", \"Age\", 'PhotoAmt', 'VideoAmt']))` crea la lista de características x, que son las columnas de df_2 exceptuando las columnas: AdoptionSpeed, PetID, RescuerID, Description, Name, Age, PhotoAmt, y VideoAmt. \n",
    "\n",
    "La línea `x_train, x_test, y_train, y_test = train_test_split(df_2[features], df_2.AdoptionSpeed, test_size=0.33, random_state=42)` usa la función mencionada para dividir el dataset, en donde las características x son las de la lista features, la variable target es `AdoptionSpeed`, el conjunto de testeo contiene el 33% de los datos totales del conjunto, y la división de los datos será igual siempre ya que el valor de `random_state` es un entero. \n",
    "\n",
    "Como dato curioso, el valor 42 es como un chiste interno porque es la respuesta a la \"pregunta fundamental sobre la vida, el universo y todo\" en la novela \"The Hitchhiker's Guide to the Galaxy\" de Douglas Adams."
   ]
  },
  {
   "cell_type": "code",
   "execution_count": 35,
   "id": "937bf586",
   "metadata": {},
   "outputs": [],
   "source": [
    "from sklearn import tree\n",
    "from sklearn.model_selection import train_test_split\n",
    "\n",
    "features = list(set(df_2.columns) - set([\"AdoptionSpeed\", \"PetID\", \"RescuerID\",\n",
    "                                         \"Description\", \"Name\", \"Age\", 'PhotoAmt', 'VideoAmt']))\n",
    "\n",
    "x_train, x_test, y_train, y_test = train_test_split(df_2[features], df_2.AdoptionSpeed, \n",
    "                                                    test_size=0.33, random_state=42)"
   ]
  },
  {
   "cell_type": "markdown",
   "id": "ba25904b",
   "metadata": {},
   "source": [
    "12. **Ejecute e interprete los resultados de clasificación (precision and recall).**\n",
    "\n",
    "        clf = tree.DecisionTreeClassifier()\n",
    "        clf = clf.fit(X_train, y_train)\n",
    "        \n",
    "        from sklearn.metrics import classification_report\n",
    "        \n",
    "        y_pred = clf.predict(X_test)\n",
    "        \n",
    "        print(classification_report(y_test, y_pred))\n",
    "        \n",
    "En cuanto a la precisión podemos ver que el modelo no lo hace muy que digamos puesto que, para todas las categorias, esta medida siempre es menor a 0,5 (que ya es bastante malo). En general, los resultados de la precisión indican que el modelo clasifica la gran mayoría de los datos de manera incorrecta. \n",
    "\n",
    "En cuanto al recall también vemos que todos los resultados son bastante bajos, incluso se parecen mucho a los de la precisión, lo que nos indica que el modelo está clasificando correctamente muy pocos datos. En otras palabras, el modelo clasifica la mayoría de los datos de manera incorrecta.\n",
    "\n",
    "En conclusión, el hecho de que la precisión sea baja sugiere que el modelo hace muchas predicciones incorrectas, mientras que el hecho de que el recall sea bajo indica que el modelo no identifica correctamente muchos casos positivos, lo que lleva a que el rendimiento del modelo sea bastante deficiente."
   ]
  },
  {
   "cell_type": "code",
   "execution_count": 36,
   "id": "04b84ee0",
   "metadata": {
    "scrolled": true
   },
   "outputs": [
    {
     "name": "stdout",
     "output_type": "stream",
     "text": [
      "              precision    recall  f1-score   support\n",
      "\n",
      "           0       0.07      0.08      0.08       130\n",
      "           1       0.25      0.27      0.26       887\n",
      "           2       0.31      0.30      0.31      1216\n",
      "           3       0.28      0.31      0.29      1002\n",
      "           4       0.41      0.35      0.37      1255\n",
      "\n",
      "    accuracy                           0.30      4490\n",
      "   macro avg       0.26      0.26      0.26      4490\n",
      "weighted avg       0.31      0.30      0.31      4490\n",
      "\n"
     ]
    }
   ],
   "source": [
    "clf = tree.DecisionTreeClassifier()\n",
    "clf = clf.fit(x_train, y_train)\n",
    "\n",
    "from sklearn.metrics import classification_report\n",
    "\n",
    "y_pred = clf.predict(x_test)\n",
    "\n",
    "print(classification_report(y_test, y_pred))"
   ]
  },
  {
   "cell_type": "markdown",
   "id": "d73b0f01",
   "metadata": {},
   "source": [
    "13. **Ejecute las siguientes líneas de código ¿Cuál es el propósito de mutual_info_classif?**\n",
    "        \n",
    "        discrete_features = [True, False, False, False, False, False,\n",
    "                            True, False, False, False, False,\n",
    "                            True, True, False, False, False, False, False]\n",
    "        \n",
    "        \n",
    "        from sklearn.feature_selection import mutual_info_classif\n",
    "\n",
    "        def make_mi_scores(x, y, discrete_features):\n",
    "            mi_scores = mutual_info_classif(x, y, discrete_features= discrete_features)\n",
    "            mi_scores = pd.Series(mi_scores, name=\"MI Scores\", index=x.columns)\n",
    "            mi_scores = mi_scores.sort_values(ascending=False)\n",
    "            return mi_scores\n",
    "\n",
    "        mi_scores = make_mi_scores(x_train, y_train, discrete_features)\n",
    "        mi_scores[::3]\n",
    "\n",
    "\n",
    "        def plot_mi_scores(scores):\n",
    "            scores = scores.sort_values(ascending=True)\n",
    "            width = np.arange(len(scores))\n",
    "            ticks = list(scores.index)\n",
    "            plt.barh(width, scores)\n",
    "            plt.yticks(width, ticks)\n",
    "            plt.title(\"Mutual Information Scores\")\n",
    "\n",
    "\n",
    "        plt.figure(dpi=100, figsize=(8, 5))\n",
    "        plot_mi_scores(mi_scores)\n",
    "        \n",
    "`mutual_info_classif` es una función perteneciente a la librería `sklearn.feature_selection` que sirve para calcular la información mutua entre una variable numérica y una variable categórica. La información mutua de dos variables indica qué tanto dice la variable numérica acerca de la categórica. Mientras más grande sea la información mutua, mayor es la relación entre las variables.\n",
    "\n",
    "Normalmente, esta función es usada para calcular esta medida de relación entre variables para usar los resultados como base para la elección de las características en los algoritmos de machine learning. Para hacer esto, se calcula la información mutua entre las variables del dataset y la variable target. Con esto, se puede saber qué variables son más apropiadas para el modelo.\n",
    "\n",
    "En el código proporcionado, es justamente eso lo que está haciendo, calcular la información mutua entre las columnas dentro de la lista `features` con respecto a la columna `AdoptionSpeed`."
   ]
  },
  {
   "cell_type": "code",
   "execution_count": 37,
   "id": "3e8123d9",
   "metadata": {},
   "outputs": [],
   "source": [
    "discrete_features = [True, False, False, False, False, False,\n",
    "                     True, False, False, False, False,\n",
    "                     True, True, False, False, False, False, False]"
   ]
  },
  {
   "cell_type": "code",
   "execution_count": 38,
   "id": "e53d81a9",
   "metadata": {},
   "outputs": [
    {
     "data": {
      "text/plain": [
       "Breed2    0.033401\n",
       "Breed1    0.021579\n",
       "Fee       0.007984\n",
       "Color2    0.006393\n",
       "NewAge    0.003971\n",
       "Color3    0.001443\n",
       "Name: MI Scores, dtype: float64"
      ]
     },
     "execution_count": 38,
     "metadata": {},
     "output_type": "execute_result"
    }
   ],
   "source": [
    "from sklearn.feature_selection import mutual_info_classif\n",
    "\n",
    "def make_mi_scores(x, y, discrete_features):\n",
    "    mi_scores = mutual_info_classif(x, y, discrete_features= discrete_features)\n",
    "    mi_scores = pd.Series(mi_scores, name=\"MI Scores\", index=x.columns)\n",
    "    mi_scores = mi_scores.sort_values(ascending=False)\n",
    "    return mi_scores\n",
    "\n",
    "mi_scores = make_mi_scores(x_train, y_train, discrete_features)\n",
    "mi_scores[::3]"
   ]
  },
  {
   "cell_type": "code",
   "execution_count": 39,
   "id": "94041f82",
   "metadata": {},
   "outputs": [],
   "source": [
    "def plot_mi_scores(scores):\n",
    "    scores = scores.sort_values(ascending=True)\n",
    "    width = np.arange(len(scores))\n",
    "    ticks = list(scores.index)\n",
    "    plt.barh(width, scores)\n",
    "    plt.yticks(width, ticks)\n",
    "    plt.title(\"Mutual Information Scores\")"
   ]
  },
  {
   "cell_type": "code",
   "execution_count": 40,
   "id": "4b36d6e7",
   "metadata": {
    "scrolled": true
   },
   "outputs": [
    {
     "data": {
      "image/png": "[encoded data removed]",
      "text/plain": [
       "<Figure size 800x500 with 1 Axes>"
      ]
     },
     "metadata": {},
     "output_type": "display_data"
    }
   ],
   "source": [
    "plt.figure(dpi=100, figsize=(8, 5))\n",
    "plot_mi_scores(mi_scores)"
   ]
  },
  {
   "cell_type": "markdown",
   "id": "4b2d4311",
   "metadata": {},
   "source": [
    "14. **Con base al anterior resultado seleccione cuatro variables, entrene y evalue un nuevo modelo con las mismas configuraciones y datos. Interprete el proceso y los nuevos resultados.**\n",
    "\n",
    "    En cuanto al proceso, seleccionamos las variables Breed2, Sterilized, Vaccinated y Breed1 porque en el cálculo de la información mutua fueron estas las que obtuvieron un mayor valor con respecto a la variable AdoptionSpeed (la target). Después de eso, dividimos el conjunto de datos en la parte de entrenamiento y testeo, y después procedimos a hacer el entrenamiento del modelo y la predicción con los datos de testeo. \n",
    "    \n",
    "    En cuanto a los resultados, estos son bastante malos también. Por la parte de la precisión, solo la clase 0 tiene una diferencia \"alta\", pero sigue siendo un valor muy malo. Por tanto, igual que anteriormente, podemos decir que este modelo hace muchas predicciones incorrectas. \n",
    "    \n",
    "    Por la parte del recall, los nuevos resultados, con respecto a los anteriores, se mantienen muy similares en algunas categorías, suben un poco en otras, y disminuyen un poco en otras. Pero, en general, siguen siendo malos resultados, estando todos incluso por debajo de la mitad (0,5), por lo que, de la misma forma que para los resultados anteriores, podemos decir que este modelo no identifica correctamente muchos casos positivos.\n",
    "    \n",
    "    Es por esta razón que podemos decir que este modelo sigue siendo muy deficiente y poco acertado."
   ]
  },
  {
   "cell_type": "code",
   "execution_count": 45,
   "id": "33851d21",
   "metadata": {},
   "outputs": [],
   "source": [
    "# Las nuevas características seleccionadas.\n",
    "features_2 = list(set(['Breed2', 'Sterilized', 'Vaccinated', 'Breed1']))\n",
    "\n",
    "# División de los datos entre testeo y entrenamiento.\n",
    "x_train_2, x_test_2, y_train_2, y_test_2 = train_test_split(df_2[features_2], df_2.AdoptionSpeed, \n",
    "                                                    test_size=0.33, random_state=42)"
   ]
  },
  {
   "cell_type": "code",
   "execution_count": 56,
   "id": "c5796802",
   "metadata": {},
   "outputs": [
    {
     "name": "stdout",
     "output_type": "stream",
     "text": [
      "              precision    recall  f1-score   support\n",
      "\n",
      "           0       0.14      0.07      0.09       130\n",
      "           1       0.31      0.26      0.29       887\n",
      "           2       0.31      0.49      0.38      1216\n",
      "           3       0.32      0.12      0.18      1002\n",
      "           4       0.42      0.47      0.44      1255\n",
      "\n",
      "    accuracy                           0.35      4490\n",
      "   macro avg       0.30      0.28      0.28      4490\n",
      "weighted avg       0.34      0.35      0.33      4490\n",
      "\n"
     ]
    }
   ],
   "source": [
    "# Selección del modelo a usar. \n",
    "clf_2 = tree.DecisionTreeClassifier()\n",
    "\n",
    "# Entrenamiento del modelo.\n",
    "clf_2 = clf_2.fit(x_train_2, y_train_2)\n",
    "\n",
    "# Predicción usando los datos de testeo.\n",
    "y_pred_2 = clf_2.predict(x_test_2)\n",
    "\n",
    "# Impresión de los resultados.\n",
    "print(classification_report(y_test_2, y_pred_2))"
   ]
  }
 ],
 "metadata": {
  "kernelspec": {
   "display_name": "Python 3 (ipykernel)",
   "language": "python",
   "name": "python3"
  },
  "language_info": {
   "codemirror_mode": {
    "name": "ipython",
    "version": 3
   },
   "file_extension": ".py",
   "mimetype": "text/x-python",
   "name": "python",
   "nbconvert_exporter": "python",
   "pygments_lexer": "ipython3",
   "version": "3.9.13"
  }
 },
 "nbformat": 4,
 "nbformat_minor": 5
}
